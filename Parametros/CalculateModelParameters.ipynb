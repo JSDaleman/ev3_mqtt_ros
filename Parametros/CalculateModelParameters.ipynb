{
 "cells": [
  {
   "cell_type": "markdown",
   "metadata": {},
   "source": [
    "# Model of a movile robot Lego mindstorms EV3 in Gazebo\n",
    "\n",
    "## Definitions of the model\n",
    "\n",
    "This model is a model of a [Driving base](https://assets.education.lego.com/v3/assets/blt293eea581807678a/bltdb0d9e7188f73df5/5ec7bfb29b2ffb61d5c8091a/ev3-rem-driving-base.pdf?locale=en-us) with a gyro sensor. This CAD model was created in LeoCAD and modificated with Blender to ajust scale and pose of the model.\n",
    "\n",
    "In LeoCAD we have a standar unit that is LDU. 1 LDU equivalenten to a 0.04cm with blender we can ajust to the real scale of the model to Gazebo and correct mistakes of the models in Collada and Wavefront format."
   ]
  },
  {
   "cell_type": "code",
   "execution_count": null,
   "metadata": {},
   "outputs": [
    {
     "name": "stdout",
     "output_type": "stream",
     "text": [
      "The propotion tho conver LDU to meters is 0.0004\n"
     ]
    }
   ],
   "source": [
    "# Calculation of correct scale to have a Waveform model in real scale\n",
    "\n",
    "proportion_ldu_to_cm = 0.04 # 1 ldu = 0.04 cm\n",
    "proportion_ldu_to_m = 0.04/100 # 1 ldu = 0.0004 m\n",
    "print(f\"The propotion tho convert LDU to meters is {proportion_ldu_to_m}\")"
   ]
  },
  {
   "cell_type": "markdown",
   "metadata": {},
   "source": [
    "To do collition model in gazebo, I did a equivalence of the model that is a cubiode with 2 cilinders and 1 sphere. The cubideo represents robot chassis and each cilinder represents each one wheel except caster wheel which is represent like a sphere. To do that I use measure tool in blender of the complet model.\n",
    "<div  align=\"center\">\n",
    "    <img src=\"https://imgur.com/otIfWcB.png\" alt=\"Blender mesure tool\" width=\"800px\">\n",
    "</div>\n",
    "Those measures was verificaded with a vernier caliper in the real model."
   ]
  },
  {
   "cell_type": "code",
   "execution_count": 2,
   "metadata": {},
   "outputs": [
    {
     "name": "stdout",
     "output_type": "stream",
     "text": [
      "The robot chasis mesures are: 0.094 x 0.159 x 0.126 [m]\n",
      "The robot track is 0.12 [m]\n"
     ]
    }
   ],
   "source": [
    "# model measures\n",
    "model_width = 0.154 # m\n",
    "model_depth = 0.159 # m\n",
    "model_height = 0.142 # m\n",
    "\n",
    "# Wheel measures\n",
    "wheel_diameter = 0.056 # m\n",
    "wheel_width = 0.028 # m\n",
    "\n",
    "# Wheel caster\n",
    "wheel_caster_separtion_axis_wheels = 0.106 # m\n",
    "wheel_caster_height = 0.032 # m\n",
    "wheel_caster_diameter = 0.018 # m\n",
    "wheel_caster_casing_base = 0.004 # m\n",
    "wheel_caster_casing_cover_sphare = 0.003 # m\n",
    "\n",
    "# Robot data\n",
    "wheel_separtion = 0.092 # m\n",
    "robot_track = wheel_separtion + wheel_width # m\n",
    "motor_head_radius = 0.024 # m\n",
    "robot_chasis_separtion_wheels = 0.002 # m\n",
    "robot_chassis_differential_height = (wheel_diameter - motor_head_radius) / 2 # m\n",
    "robot_chassis_width = model_width - (2 * (wheel_width + robot_chasis_separtion_wheels)) # m\n",
    "robot_chassis_depth = model_depth # m\n",
    "robot_chassis_height = model_height - robot_chassis_differential_height # m\n",
    "print(f\"The robot chasis mesures are: {robot_chassis_width} x {robot_chassis_depth} x {robot_chassis_height} [m]\")\n",
    "print(f\"The robot track is {robot_track} [m]\")\n",
    "\n"
   ]
  },
  {
   "cell_type": "markdown",
   "metadata": {},
   "source": [
    "## Calulate frames positions respect the robot frame"
   ]
  },
  {
   "cell_type": "code",
   "execution_count": 25,
   "metadata": {},
   "outputs": [
    {
     "name": "stdout",
     "output_type": "stream",
     "text": [
      "The collision frame is at [0.052, 0, 0.043] [m]\n",
      "The wheel left frame is at [0, 0.06, 0] [m]\n",
      "The wheel right frame is at [0, -0.06, 0] [m]\n",
      "The wheel caster frame is at [-0.106, 0, -0.016] [m]\n"
     ]
    }
   ],
   "source": [
    "#Collision frame\n",
    "collision_frame_x = round((model_depth-wheel_diameter)/2, 3) # m  \n",
    "collision_frame_y = 0 # m\n",
    "collision_frame_z = round((model_height-wheel_diameter)/2, 3) # m\n",
    "collision_position_frame = [collision_frame_x, collision_frame_y, collision_frame_z]\n",
    "print(f\"The collision frame is at {collision_position_frame} [m]\")\n",
    "\n",
    "#Wheel frame\n",
    "wheel_frame_x = 0 # m\n",
    "wheel_frame_y = round(robot_track / 2, 3) # m\n",
    "wheel_frame_z = 0 # m\n",
    "wheel_left_position_frame = [wheel_frame_x, wheel_frame_y, wheel_frame_z]\n",
    "wheel_right_position_frame = [wheel_frame_x, -wheel_frame_y, wheel_frame_z]\n",
    "print(f\"The wheel left frame is at {wheel_left_position_frame} [m]\")\n",
    "print(f\"The wheel right frame is at {wheel_right_position_frame} [m]\")\n",
    "\n",
    "#Wheel caster frame\n",
    "wheel_caster_frame_x = - wheel_caster_separtion_axis_wheels # m\n",
    "wheel_caster_frame_y = 0 # m\n",
    "wheel_caster_frame_z = round(-(wheel_caster_height-(wheel_caster_diameter/2) -wheel_caster_casing_base-wheel_caster_casing_cover_sphare), 3) # m\n",
    "wheel_caster_position_frame = [wheel_caster_frame_x, wheel_caster_frame_y, wheel_caster_frame_z]\n",
    "print(f\"The wheel caster frame is at {wheel_caster_position_frame} [m]\")"
   ]
  },
  {
   "cell_type": "markdown",
   "metadata": {},
   "source": [
    "## Calculete inertia mass moments\n",
    "\n",
    "To this secction it is importan mesure the mass of each element of the robot, to that I mesure with a gramer the robot part with the follow masses.\n"
   ]
  },
  {
   "cell_type": "code",
   "execution_count": 57,
   "metadata": {},
   "outputs": [],
   "source": [
    "robot_chassis_mass = 0.536 # kg\n",
    "wheel_mass = 0.024 # kg\n",
    "wheel_caster_mass = 0.024 # kg"
   ]
  },
  {
   "cell_type": "markdown",
   "metadata": {},
   "source": [
    "### Import libreries"
   ]
  },
  {
   "cell_type": "code",
   "execution_count": 81,
   "metadata": {},
   "outputs": [],
   "source": [
    "import numpy as np"
   ]
  },
  {
   "cell_type": "markdown",
   "metadata": {},
   "source": [
    "### Calculete robots chasis cuboid inertia"
   ]
  },
  {
   "cell_type": "code",
   "execution_count": 85,
   "metadata": {},
   "outputs": [
    {
     "name": "stdout",
     "output_type": "stream",
     "text": [
      "Moment of inertia matrix of the cuboid [kg ]:\n",
      "[[1.838e-03 0.000e+00 0.000e+00]\n",
      " [0.000e+00 1.104e-03 0.000e+00]\n",
      " [0.000e+00 0.000e+00 1.524e-03]]\n"
     ]
    }
   ],
   "source": [
    "def moment_of_inertia_cuboid(mass, width, height, depth):\n",
    "    \"\"\"\n",
    "    Calculates the moment of inertia matrix of a cuboid with respect to its center of mass.\n",
    "\n",
    "    Parameters:\n",
    "        mass (float): Mass of the cuboid.\n",
    "        width (float): Width (w) of the cuboid.\n",
    "        height (float): Height (h) of the cuboid.\n",
    "        depth (float): Depth (d) of the cuboid.\n",
    "\n",
    "    Returns:\n",
    "        np.ndarray: 3x3 moment of inertia matrix.\n",
    "    \"\"\"\n",
    "    I_x = (1/12) * mass * (height**2 + depth**2)\n",
    "    I_x = round(I_x, 9)\n",
    "    I_y = (1/12) * mass * (width**2 + height**2)\n",
    "    I_y = round(I_y, 9)\n",
    "    I_z = (1/12) * mass * (width**2 + depth**2)\n",
    "    I_z = round(I_z, 9)\n",
    "\n",
    "\n",
    "    # Inertia matrix at the center of mass (body-aligned coordinate system)\n",
    "    inertia_matrix = np.array([\n",
    "        [I_x, 0, 0],\n",
    "        [0, I_y, 0],\n",
    "        [0, 0, I_z]\n",
    "    ])\n",
    "    \n",
    "    return inertia_matrix\n",
    "\n",
    "I_matrix = moment_of_inertia_cuboid(robot_chassis_mass, robot_chassis_width, robot_chassis_height, robot_chassis_depth)\n",
    "print(\"Moment of inertia matrix of the cuboid [kg ]:\")\n",
    "print(I_matrix)\n"
   ]
  },
  {
   "cell_type": "markdown",
   "metadata": {},
   "source": [
    "### Calculate inertia cylinders"
   ]
  },
  {
   "cell_type": "code",
   "execution_count": 80,
   "metadata": {},
   "outputs": [
    {
     "name": "stdout",
     "output_type": "stream",
     "text": [
      "Moment of inertia matrix of the cylinder [kg*m^2]:\n",
      "[[6.272e-06 0.000e+00 0.000e+00]\n",
      " [0.000e+00 6.272e-06 0.000e+00]\n",
      " [0.000e+00 0.000e+00 9.408e-06]]\n"
     ]
    }
   ],
   "source": [
    "def moment_of_inertia_cylinder(mass, radius, height):\n",
    "    \"\"\"\n",
    "    Calculates the moment of inertia matrix of a cylinder with respect to its center of mass.\n",
    "\n",
    "    Parameters:\n",
    "        mass (float): Mass of the cylinder.\n",
    "        radius (float): Radius of the cylinder.\n",
    "        height (float): Height of the cylinder.\n",
    "\n",
    "    Returns:\n",
    "        np.ndarray: 3x3 moment of inertia matrix.\n",
    "    \"\"\"\n",
    "    I_x = I_y = (1/12) * mass * (3 * radius**2 + height**2)\n",
    "    I_z = (1/2) * mass * radius**2\n",
    "\n",
    "    # Round values (optional)\n",
    "    I_x = I_y = round(I_x, 9)\n",
    "    I_z = round(I_z, 9)\n",
    "\n",
    "    # Inertia matrix at the center of mass\n",
    "    inertia_matrix = np.array([\n",
    "        [I_x, 0, 0],\n",
    "        [0, I_y, 0],\n",
    "        [0, 0, I_z]\n",
    "    ])\n",
    "    \n",
    "    return inertia_matrix\n",
    "\n",
    "I_matrix = moment_of_inertia_cylinder(wheel_mass, (wheel_diameter/2), wheel_width)\n",
    "print(\"Moment of inertia matrix of the cylinder [kg*m^2]:\")\n",
    "print(I_matrix)\n"
   ]
  },
  {
   "cell_type": "markdown",
   "metadata": {},
   "source": [
    "### Calculate inertia sphere"
   ]
  },
  {
   "cell_type": "code",
   "execution_count": 76,
   "metadata": {},
   "outputs": [
    {
     "name": "stdout",
     "output_type": "stream",
     "text": [
      "Moment of inertia matrix of the sphere [kg*m^2]:\n",
      "[[7.780e-07 0.000e+00 0.000e+00]\n",
      " [0.000e+00 7.780e-07 0.000e+00]\n",
      " [0.000e+00 0.000e+00 7.780e-07]]\n"
     ]
    }
   ],
   "source": [
    "def moment_of_inertia_sphere(mass, radius):\n",
    "    \"\"\"\n",
    "    Calculates the moment of inertia matrix of a solid sphere with respect to its center of mass.\n",
    "\n",
    "    Parameters:\n",
    "        mass (float): Mass of the sphere.\n",
    "        radius (float): Radius of the sphere.\n",
    "\n",
    "    Returns:\n",
    "        np.ndarray: 3x3 moment of inertia matrix.\n",
    "    \"\"\"\n",
    "    I = (2/5) * mass * radius**2\n",
    "    I = round(I, 9)\n",
    "\n",
    "    # Inertia matrix at the center of mass\n",
    "    inertia_matrix = np.array([\n",
    "        [I, 0, 0],\n",
    "        [0, I, 0],\n",
    "        [0, 0, I]\n",
    "    ])\n",
    "    \n",
    "    return inertia_matrix\n",
    "\n",
    "I_matrix = moment_of_inertia_sphere(wheel_caster_mass, (wheel_caster_diameter/2))\n",
    "print(\"Moment of inertia matrix of the sphere [kg*m^2]:\")\n",
    "print(I_matrix)"
   ]
  },
  {
   "cell_type": "markdown",
   "metadata": {},
   "source": [
    "## Limits velocity robot \n",
    "\n",
    "it is important establish the limits that have our motors\n",
    "\n",
    "<div align=\"center\">\n",
    "\n",
    "| Feature                   | EV3 Large Motor (45502) | EV3 Medium Motor (45503) |\n",
    "|---------------------------|------------------------|------------------------|\n",
    "| **No-load speed**         | ~1050 RPM             | ~1560 RPM             |\n",
    "| **Maximum torque**        | ~20 N·cm              | ~8 N·cm               |\n",
    "| **Current draw (no load)**| ~50 mA                | ~50 mA                |\n",
    "| **Current draw (max load)** | ~1.3 A               | ~0.8 A                |\n",
    "| **Encoder resolution**    | 1° per pulse (360/rev) | 1° per pulse (360/rev) |\n",
    "| **Weight**                | ~80 g                 | ~50 g                 |\n",
    "| **Common applications**   | Heavy-duty robots, robotic arms | Fast rotations, lightweight mechanisms, robotic grippers |\n",
    "| **Advantages**            | High torque, good precision | Faster, lightweight, and compact |\n",
    "| **Disadvantages**         | Lower speed, higher power consumption | Lower torque, less precision under high load |\n",
    "| **Best for**              | Robots needing strength and precision | Robots needing speed and agility |\n",
    "\n",
    "</div>\n",
    "\n",
    "this robot uses two large motors, we will work with a maximun speed of 600 rpm in each motor"
   ]
  },
  {
   "cell_type": "code",
   "execution_count": 6,
   "metadata": {},
   "outputs": [
    {
     "name": "stdout",
     "output_type": "stream",
     "text": [
      "maximun linear velocity: 1.7592918860102842 m/s \n",
      "maximun angular velocity: 29.321531433504735 rad/s\n"
     ]
    }
   ],
   "source": [
    "import math\n",
    "\n",
    "def rpm_to_rad_per_sec(rpm):\n",
    "    return rpm * (math.pi / 30)\n",
    "\n",
    "v_right_rpm = 600 # rpm\n",
    "v_left_rpm = 600 # rpm\n",
    "\n",
    "v_right = rpm_to_rad_per_sec(v_right_rpm) # rad/s\n",
    "v_left = rpm_to_rad_per_sec(v_left_rpm) # rad/s\n",
    "\n",
    "linear_x = ((wheel_diameter/2) / 2) * (v_right + v_left)\n",
    "angular_z = ((wheel_diameter/2) /robot_track) * (v_right - (-1*v_left))\n",
    "print(f\"maximun linear velocity: {linear_x} m/s \\nmaximun angular velocity: {angular_z} rad/s\")"
   ]
  }
 ],
 "metadata": {
  "kernelspec": {
   "display_name": "Python 3",
   "language": "python",
   "name": "python3"
  },
  "language_info": {
   "codemirror_mode": {
    "name": "ipython",
    "version": 3
   },
   "file_extension": ".py",
   "mimetype": "text/x-python",
   "name": "python",
   "nbconvert_exporter": "python",
   "pygments_lexer": "ipython3",
   "version": "3.13.2"
  }
 },
 "nbformat": 4,
 "nbformat_minor": 2
}
